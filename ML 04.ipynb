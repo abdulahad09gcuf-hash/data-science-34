{
 "cells": [
  {
   "cell_type": "markdown",
   "id": "8944d6a4",
   "metadata": {},
   "source": [
    "# simple prediction"
   ]
  },
  {
   "cell_type": "code",
   "execution_count": 1,
   "id": "9dfadd55",
   "metadata": {},
   "outputs": [
    {
     "name": "stdout",
     "output_type": "stream",
     "text": [
      "       Week        Date  spot_price_2025\n",
      "0   2025-29  2025-07-14             65.9\n",
      "1   2025-30  2025-07-21             66.2\n",
      "2   2025-31  2025-07-28             66.5\n",
      "3   2025-32  2025-08-04             66.7\n",
      "4   2025-33  2025-08-11             67.0\n",
      "5   2025-34  2025-08-18             67.2\n",
      "6   2025-35  2025-08-25             67.5\n",
      "7   2025-36  2025-09-01             67.7\n",
      "8   2025-37  2025-09-08             68.0\n",
      "9   2025-38  2025-09-15             68.2\n",
      "10  2025-39  2025-09-22             68.5\n",
      "11  2025-40  2025-09-29             68.8\n",
      "12  2025-41  2025-10-06             69.0\n",
      "13  2025-42  2025-10-13             69.3\n",
      "14  2025-43  2025-10-20             69.5\n",
      "15  2025-44  2025-10-27             69.8\n",
      "16  2025-45  2025-11-03             70.0\n",
      "17  2025-46  2025-11-10             70.3\n",
      "18  2025-47  2025-11-17             70.5\n",
      "19  2025-48  2025-11-24             70.8\n",
      "20  2025-49  2025-12-01             71.0\n",
      "21  2025-50  2025-12-08             71.3\n",
      "22  2025-51  2025-12-15             71.6\n",
      "23  2025-52  2025-12-22             71.8\n"
     ]
    }
   ],
   "source": [
    "import pandas as pd\n",
    "import numpy as np\n",
    "import matplotlib.pyplot as plt\n",
    "from sklearn.linear_model import LinearRegression\n",
    "df=pd.read_csv(r\"c:\\Users\\abdul\\Downloads\\amCharts (2).csv\")\n",
    "df = df.drop('spot_price_2026', axis=1)\n",
    "df = df.drop('spot_price_2027', axis=1)\n",
    "df.columns\n",
    "df[\"Date\"] = pd.to_datetime(df[\"Date\"])\n",
    "\n",
    "\n",
    "df_2025 = df[df[\"spot_price_2025\"] > 0]\n",
    "\n",
    "x_train = df_2025.index.values.reshape(-1, 1)\n",
    "\n",
    "y_train = df_2025[\"spot_price_2025\"]\n",
    "\n",
    "\n",
    "\n",
    "\n",
    "model = LinearRegression()\n",
    "model.fit(x_train, y_train)\n",
    "week=range(29,53)\n",
    "\n",
    "\n",
    "week_labels = [\n",
    "    \"2025-29\", \"2025-30\", \"2025-31\", \"2025-32\", \"2025-33\", \"2025-34\",\n",
    "    \"2025-35\", \"2025-36\", \"2025-37\", \"2025-38\", \"2025-39\", \"2025-40\",\n",
    "    \"2025-41\", \"2025-42\", \"2025-43\", \"2025-44\", \"2025-45\", \"2025-46\",\n",
    "    \"2025-47\", \"2025-48\", \"2025-49\", \"2025-50\", \"2025-51\", \"2025-52\"\n",
    "]\n",
    "start_date = pd.to_datetime(\"2025-07-14\")  # Monday of mid-July, 2025\n",
    "future_dates = [\n",
    "    \"2025-07-14\",\n",
    "    \"2025-07-21\",\n",
    "    \"2025-07-28\",\n",
    "    \"2025-08-04\",\n",
    "    \"2025-08-11\",\n",
    "    \"2025-08-18\",\n",
    "    \"2025-08-25\",\n",
    "    \"2025-09-01\",\n",
    "    \"2025-09-08\",\n",
    "    \"2025-09-15\",\n",
    "    \"2025-09-22\",\n",
    "    \"2025-09-29\",\n",
    "    \"2025-10-06\",\n",
    "    \"2025-10-13\",\n",
    "    \"2025-10-20\",\n",
    "    \"2025-10-27\",\n",
    "    \"2025-11-03\",\n",
    "    \"2025-11-10\",\n",
    "    \"2025-11-17\",\n",
    "    \"2025-11-24\",\n",
    "    \"2025-12-01\",\n",
    "    \"2025-12-08\",\n",
    "    \"2025-12-15\",\n",
    "    \"2025-12-22\"\n",
    "]\n",
    "\n",
    "start_idx = df.index.max() + 1\n",
    "x_future = [[i] for i in range(start_idx, start_idx + len(week))]\n",
    "predicted_prices = model.predict(x_future)\n",
    "future_df = pd.DataFrame({\n",
    "    \"Week\": week_labels,\n",
    "    \"Date\": future_dates,\n",
    "    \"spot_price_2025\": predicted_prices.round(1)\n",
    "})\n",
    "print(future_df)"
   ]
  },
  {
   "cell_type": "markdown",
   "id": "2a8babc2",
   "metadata": {},
   "source": [
    "# seasonlity based price prediction"
   ]
  },
  {
   "cell_type": "code",
   "execution_count": 10,
   "id": "35947274",
   "metadata": {},
   "outputs": [
    {
     "name": "stdout",
     "output_type": "stream",
     "text": [
      "       Week        Date  spot_price_2025\n",
      "0   2025-29  2025-07-14             72.7\n",
      "1   2025-30  2025-07-21             72.3\n",
      "2   2025-31  2025-07-28             72.0\n",
      "3   2025-32  2025-08-04             75.1\n",
      "4   2025-33  2025-08-11             75.6\n",
      "5   2025-34  2025-08-18             77.0\n",
      "6   2025-35  2025-08-25             81.0\n",
      "7   2025-36  2025-09-01             81.4\n",
      "8   2025-37  2025-09-08             79.6\n",
      "9   2025-38  2025-09-15             78.9\n",
      "10  2025-39  2025-09-22             77.6\n",
      "11  2025-40  2025-09-29             78.5\n",
      "12  2025-41  2025-10-06             79.5\n",
      "13  2025-42  2025-10-13             79.8\n",
      "14  2025-43  2025-10-20             80.7\n",
      "15  2025-44  2025-10-27             85.9\n",
      "16  2025-45  2025-11-03             89.9\n",
      "17  2025-46  2025-11-10             95.3\n",
      "18  2025-47  2025-11-17             95.1\n",
      "19  2025-48  2025-11-24             89.4\n",
      "20  2025-49  2025-12-01             76.5\n",
      "21  2025-50  2025-12-08             65.9\n",
      "22  2025-51  2025-12-15             55.5\n",
      "23  2025-52  2025-12-22             51.9\n"
     ]
    }
   ],
   "source": [
    "import pandas as pd\n",
    "import numpy as np\n",
    "import matplotlib.pyplot as plt\n",
    "from sklearn.linear_model import LinearRegression\n",
    "\n",
    "# Load and clean data\n",
    "df = pd.read_csv(r\"c:\\Users\\abdul\\Downloads\\amCharts (2).csv\")\n",
    "df = df.drop('spot_price_2026', axis=1)\n",
    "df = df.drop('spot_price_2027', axis=1)\n",
    "df[\"Date\"] = pd.to_datetime(df[\"Date\"])\n",
    "# 2. Actual 2025 data for model training\n",
    "df_2025 = df[df[\"spot_price_2025\"] > 0]\n",
    "x_train = df_2025.index.values.reshape(-1, 1)\n",
    "y_train = df_2025[\"spot_price_2025\"]\n",
    "\n",
    "# 3. Train Linear Regression model\n",
    "model = LinearRegression()\n",
    "model.fit(x_train, y_train)\n",
    "\n",
    "\n",
    "# Week labels and future dates for prediction\n",
    "week = range(29, 53)\n",
    "week_labels = [\n",
    "    \"2025-29\", \"2025-30\", \"2025-31\", \"2025-32\", \"2025-33\", \"2025-34\",\n",
    "    \"2025-35\", \"2025-36\", \"2025-37\", \"2025-38\", \"2025-39\", \"2025-40\",\n",
    "    \"2025-41\", \"2025-42\", \"2025-43\", \"2025-44\", \"2025-45\", \"2025-46\",\n",
    "    \"2025-47\", \"2025-48\", \"2025-49\", \"2025-50\", \"2025-51\", \"2025-52\"\n",
    "]\n",
    "future_dates = [\n",
    "    \"2025-07-14\", \"2025-07-21\", \"2025-07-28\", \"2025-08-04\",\n",
    "    \"2025-08-11\", \"2025-08-18\", \"2025-08-25\", \"2025-09-01\",\n",
    "    \"2025-09-08\", \"2025-09-15\", \"2025-09-22\", \"2025-09-29\",\n",
    "    \"2025-10-06\", \"2025-10-13\", \"2025-10-20\", \"2025-10-27\",\n",
    "    \"2025-11-03\", \"2025-11-10\", \"2025-11-17\", \"2025-11-24\",    \n",
    "    \"2025-12-01\", \"2025-12-08\", \"2025-12-15\", \"2025-12-22\"\n",
    "]\n",
    "\n",
    "# Calculate seasonality average from 2020–2024 (weeks 1–52)\n",
    "seasonal_prices = []\n",
    "for yr in [\"2020\", \"2021\", \"2022\", \"2023\", \"2024\"]:\n",
    "    prices = df[f\"spot_price_{yr}\"].values[:52]\n",
    "    for wk, val in enumerate(prices, 1):\n",
    "        seasonal_prices.append([wk, val])\n",
    "\n",
    "season_df = pd.DataFrame(seasonal_prices, columns=[\"Week\", \"Price\"])\n",
    "avg_season = season_df.groupby(\"Week\")[\"Price\"].mean()\n",
    "\n",
    "# Use seasonality to predict weeks 29–52 of 2025\n",
    "predicted_prices = [round(avg_season[wk], 1) for wk in week]\n",
    "\n",
    "# Create output DataFrame like your format\n",
    "future_df = pd.DataFrame({\n",
    "    \"Week\": week_labels,\n",
    "    \"Date\": future_dates,\n",
    "    \"spot_price_2025\": predicted_prices\n",
    "})\n",
    "\n",
    "# Display the prediction\n",
    "print(future_df)\n"
   ]
  },
  {
   "cell_type": "code",
   "execution_count": 17,
   "id": "d4b09c83",
   "metadata": {},
   "outputs": [
    {
     "name": "stdout",
     "output_type": "stream",
     "text": [
      "Model Evaluation:\n",
      "MAE  : 32.73\n",
      "RMSE : 42.91\n",
      "R²   : -1.20\n"
     ]
    }
   ],
   "source": [
    "from sklearn.metrics import mean_absolute_error, mean_squared_error, r2_score,accuracy_score,precision_score\n",
    "\n",
    "# True vs Pred (only where actual data exists)\n",
    "valid_df = df.dropna(subset=[\"spot_price_2025\"])  # keep rows with actual 2025 data\n",
    "x_train = valid_df.index.values.reshape(-1, 1)\n",
    "y_test = valid_df[\"spot_price_2025\"]\n",
    "\n",
    "# Predict using regression model\n",
    "y_pred = model.predict(x_train)\n",
    "\n",
    "# Metrics\n",
    "mae = mean_absolute_error(y_test, y_pred)\n",
    "mse = mean_squared_error(y_test, y_pred)\n",
    "rmse = np.sqrt(mse)\n",
    "r2 = r2_score(y_test, y_pred)\n",
    "\n",
    "\n",
    "print(\"Model Evaluation:\")\n",
    "print(f\"MAE  : {mae:.2f}\")\n",
    "print(f\"RMSE : {rmse:.2f}\")\n",
    "print(f\"R²   : {r2:.2f}\")\n"
   ]
  },
  {
   "cell_type": "code",
   "execution_count": 4,
   "id": "ed3e6d36",
   "metadata": {},
   "outputs": [
    {
     "name": "stderr",
     "output_type": "stream",
     "text": [
      "c:\\Users\\abdul\\anaconda3\\Lib\\site-packages\\kaleido\\__init__.py:14: UserWarning:\n",
      "\n",
      "\n",
      "\n",
      "Warning: You have Plotly version 5.22.0, which is not compatible with this version of Kaleido (1.0.0).\n",
      "\n",
      "This means that static image generation (e.g. `fig.write_image()`) will not work.\n",
      "\n",
      "Please upgrade Plotly to version 6.1.1 or greater, or downgrade Kaleido to version 0.2.1.\n",
      "\n",
      "\n"
     ]
    },
    {
     "data": {
      "application/vnd.plotly.v1+json": {
       "config": {
        "plotlyServerURL": "https://plot.ly"
       },
       "data": [
        {
         "hovertemplate": "Year=2020<br>Week of Year=%{x}<br>Spot Price=%{y}<extra></extra>",
         "legendgroup": "2020",
         "line": {
          "color": "#636efa",
          "dash": "solid"
         },
         "marker": {
          "symbol": "circle"
         },
         "mode": "lines",
         "name": "2020",
         "orientation": "v",
         "showlegend": true,
         "type": "scatter",
         "x": [
          1,
          2,
          3,
          4,
          5,
          6,
          7,
          8,
          9,
          10,
          11,
          12,
          13,
          14,
          15,
          16,
          17,
          18,
          19,
          20,
          21,
          22,
          23,
          24,
          25,
          26,
          27,
          28,
          29,
          30,
          31,
          32,
          33,
          34,
          35,
          36,
          37,
          38,
          39,
          40,
          41,
          42,
          43,
          44,
          45,
          46,
          47,
          48,
          49,
          50,
          51,
          52
         ],
         "xaxis": "x",
         "y": [
          40.62,
          46.02,
          44.54,
          39.88,
          37.35,
          36.4,
          32.43,
          25.42,
          29.67,
          35.3,
          37.75,
          40.11,
          40.2,
          37.7,
          38.48,
          39.72,
          50.16,
          53.26,
          51.7,
          53.47,
          50.36,
          54.9,
          53.7,
          56.06,
          55.94,
          59.27,
          61.43,
          63.5,
          66.67,
          69.16,
          60.7,
          67.16,
          63.57,
          65.43,
          66.43,
          67.74,
          69.36,
          65.56,
          67.82,
          70.87,
          72.27,
          73.87,
          79.24,
          83.16,
          84.35,
          91.44,
          105.08,
          94.57,
          68.06,
          57.79,
          44.49,
          38.17
         ],
         "yaxis": "y"
        },
        {
         "hovertemplate": "Year=2021<br>Week of Year=%{x}<br>Spot Price=%{y}<extra></extra>",
         "legendgroup": "2021",
         "line": {
          "color": "#EF553B",
          "dash": "solid"
         },
         "marker": {
          "symbol": "circle"
         },
         "mode": "lines",
         "name": "2021",
         "orientation": "v",
         "showlegend": true,
         "type": "scatter",
         "x": [
          1,
          2,
          3,
          4,
          5,
          6,
          7,
          8,
          9,
          10,
          11,
          12,
          13,
          14,
          15,
          16,
          17,
          18,
          19,
          20,
          21,
          22,
          23,
          24,
          25,
          26,
          27,
          28,
          29,
          30,
          31,
          32,
          33,
          34,
          35,
          36,
          37,
          38,
          39,
          40,
          41,
          42,
          43,
          44,
          45,
          46,
          47,
          48,
          49,
          50,
          51,
          52
         ],
         "xaxis": "x",
         "y": [
          31.76,
          37.79,
          34.64,
          31.39,
          28.04,
          29.34,
          28.3,
          29.29,
          31.24,
          32.25,
          31.35,
          31.47,
          33.6,
          32.28,
          38.42,
          44.36,
          46.19,
          46.78,
          48.43,
          48.32,
          46.19,
          44.12,
          49.1,
          52.22,
          58.81,
          59.32,
          60.46,
          63.14,
          68.95,
          65.98,
          63.17,
          64.52,
          63.6,
          62.85,
          66.36,
          65.2,
          66.72,
          63.01,
          61.01,
          58.21,
          59.79,
          58.46,
          59.91,
          66.3,
          68.7,
          69.22,
          66.87,
          63.54,
          61.74,
          50.45,
          38.08,
          36.16
         ],
         "yaxis": "y"
        },
        {
         "hovertemplate": "Year=2022<br>Week of Year=%{x}<br>Spot Price=%{y}<extra></extra>",
         "legendgroup": "2022",
         "line": {
          "color": "#00cc96",
          "dash": "solid"
         },
         "marker": {
          "symbol": "circle"
         },
         "mode": "lines",
         "name": "2022",
         "orientation": "v",
         "showlegend": true,
         "type": "scatter",
         "x": [
          1,
          2,
          3,
          4,
          5,
          6,
          7,
          8,
          9,
          10,
          11,
          12,
          13,
          14,
          15,
          16,
          17,
          18,
          19,
          20,
          21,
          22,
          23,
          24,
          25,
          26,
          27,
          28,
          29,
          30,
          31,
          32,
          33,
          34,
          35,
          36,
          37,
          38,
          39,
          40,
          41,
          42,
          43,
          44,
          45,
          46,
          47,
          48,
          49,
          50,
          51,
          52
         ],
         "xaxis": "x",
         "y": [
          31.5,
          35.67,
          31.25,
          29.68,
          26.46,
          24.26,
          24.68,
          23.79,
          24.1,
          23.96,
          23.65,
          22.68,
          26.37,
          24.59,
          24.42,
          24.1,
          26.32,
          25.21,
          29.58,
          31.31,
          32.4,
          37.4,
          41.49,
          42.89,
          47.3,
          56.74,
          58.02,
          54.3,
          63.7,
          56.25,
          63.02,
          66.5,
          72.42,
          77.62,
          87.93,
          90.65,
          82.12,
          84.9,
          79.39,
          81.45,
          77.82,
          79.6,
          82.09,
          85.54,
          88.71,
          92.66,
          86.14,
          71.91,
          67.3,
          54.45,
          42.07,
          37.21
         ],
         "yaxis": "y"
        },
        {
         "hovertemplate": "Year=2023<br>Week of Year=%{x}<br>Spot Price=%{y}<extra></extra>",
         "legendgroup": "2023",
         "line": {
          "color": "#ab63fa",
          "dash": "solid"
         },
         "marker": {
          "symbol": "circle"
         },
         "mode": "lines",
         "name": "2023",
         "orientation": "v",
         "showlegend": true,
         "type": "scatter",
         "x": [
          1,
          2,
          3,
          4,
          5,
          6,
          7,
          8,
          9,
          10,
          11,
          12,
          13,
          14,
          15,
          16,
          17,
          18,
          19,
          20,
          21,
          22,
          23,
          24,
          25,
          26,
          27,
          28,
          29,
          30,
          31,
          32,
          33,
          34,
          35,
          36,
          37,
          38,
          39,
          40,
          41,
          42,
          43,
          44,
          45,
          46,
          47,
          48,
          49,
          50,
          51,
          52
         ],
         "xaxis": "x",
         "y": [
          33.35,
          30.44,
          29.17,
          27.32,
          27.86,
          32.08,
          34.85,
          34.67,
          35.11,
          38.88,
          42.67,
          44.64,
          48.07,
          48.98,
          54.73,
          59.45,
          62.48,
          64.94,
          67.02,
          66.73,
          66.58,
          68.32,
          68.74,
          71.31,
          74.03,
          74.2,
          74.74,
          76.25,
          77.66,
          80.19,
          82.4,
          80.9,
          81.18,
          81.2,
          84.65,
          84.86,
          83.16,
          85.33,
          85.15,
          86.3,
          89.23,
          89.46,
          84.23,
          83.71,
          94.5,
          104.47,
          103.14,
          100.21,
          87.44,
          70.26,
          59.08,
          54.6
         ],
         "yaxis": "y"
        },
        {
         "hovertemplate": "Year=2024<br>Week of Year=%{x}<br>Spot Price=%{y}<extra></extra>",
         "legendgroup": "2024",
         "line": {
          "color": "#FFA15A",
          "dash": "solid"
         },
         "marker": {
          "symbol": "circle"
         },
         "mode": "lines",
         "name": "2024",
         "orientation": "v",
         "showlegend": true,
         "type": "scatter",
         "x": [
          1,
          2,
          3,
          4,
          5,
          6,
          7,
          8,
          9,
          10,
          11,
          12,
          13,
          14,
          15,
          16,
          17,
          18,
          19,
          20,
          21,
          22,
          23,
          24,
          25,
          26,
          27,
          28,
          29,
          30,
          31,
          32,
          33,
          34,
          35,
          36,
          37,
          38,
          39,
          40,
          41,
          42,
          43,
          44,
          45,
          46,
          47,
          48,
          49,
          50,
          51,
          52
         ],
         "xaxis": "x",
         "y": [
          46.98,
          46.44,
          43.47,
          41.59,
          41.11,
          40.26,
          42.57,
          42.14,
          44.84,
          57.65,
          54.08,
          47.97,
          49.76,
          51.84,
          55.2,
          60.32,
          66.16,
          69.78,
          72.34,
          73.23,
          75.14,
          74,
          77.95,
          78.73,
          78.89,
          79.94,
          80.86,
          80.58,
          86.65,
          89.96,
          90.89,
          96.27,
          97.44,
          98.05,
          99.57,
          98.35,
          96.63,
          95.84,
          94.38,
          95.56,
          98.28,
          97.82,
          97.92,
          110.59,
          113.47,
          118.87,
          114.07,
          116.9,
          97.85,
          96.68,
          93.93,
          93.6
         ],
         "yaxis": "y"
        },
        {
         "line": {
          "color": "red",
          "width": 3
         },
         "marker": {
          "size": 5,
          "symbol": "circle"
         },
         "mode": "lines+markers",
         "name": "2025 (Actual + Predicted)",
         "showlegend": true,
         "type": "scatter",
         "x": [
          1,
          2,
          3,
          4,
          5,
          6,
          7,
          8,
          9,
          10,
          11,
          12,
          13,
          14,
          15,
          16,
          17,
          18,
          19,
          20,
          21,
          22,
          23,
          24,
          25,
          26,
          27,
          28,
          29,
          30,
          31,
          32,
          33,
          34,
          35,
          36,
          37,
          38,
          39,
          40,
          41,
          42,
          43,
          44,
          45,
          46,
          47,
          48,
          49,
          50,
          51,
          52
         ],
         "y": [
          79.04,
          65.24,
          60.61,
          57.42,
          53.22,
          51.45,
          50.9,
          51.9,
          53.44,
          53.23,
          50.63,
          49.58,
          47.85,
          48.4,
          48.53,
          45.78,
          45.28,
          45.88,
          44.8,
          44.62,
          48.96,
          54.09,
          56.9,
          57.8,
          60.25,
          66.11,
          72.64,
          79.16,
          80.33,
          72.30799999999999,
          72.036,
          75.07000000000001,
          75.64200000000001,
          77.03,
          80.988,
          81.36,
          79.598,
          78.928,
          77.55,
          78.478,
          79.478,
          79.842,
          80.678,
          85.86,
          89.946,
          95.332,
          95.06,
          89.426,
          76.478,
          65.926,
          55.529999999999994,
          51.948
         ]
        }
       ],
       "layout": {
        "annotations": [
         {
          "showarrow": false,
          "text": "Predicted Region (2025)",
          "x": 29.5,
          "xanchor": "left",
          "xref": "x",
          "y": 1,
          "yanchor": "top",
          "yref": "y domain"
         }
        ],
        "height": 600,
        "hovermode": "x unified",
        "legend": {
         "title": {
          "text": "Year"
         },
         "tracegroupgap": 0
        },
        "shapes": [
         {
          "fillcolor": "lightgray",
          "line": {
           "width": 0
          },
          "opacity": 0.25,
          "type": "rect",
          "x0": 29.5,
          "x1": 52,
          "xref": "x",
          "y0": 0,
          "y1": 1,
          "yref": "y domain"
         }
        ],
        "template": {
         "data": {
          "bar": [
           {
            "error_x": {
             "color": "#2a3f5f"
            },
            "error_y": {
             "color": "#2a3f5f"
            },
            "marker": {
             "line": {
              "color": "white",
              "width": 0.5
             },
             "pattern": {
              "fillmode": "overlay",
              "size": 10,
              "solidity": 0.2
             }
            },
            "type": "bar"
           }
          ],
          "barpolar": [
           {
            "marker": {
             "line": {
              "color": "white",
              "width": 0.5
             },
             "pattern": {
              "fillmode": "overlay",
              "size": 10,
              "solidity": 0.2
             }
            },
            "type": "barpolar"
           }
          ],
          "carpet": [
           {
            "aaxis": {
             "endlinecolor": "#2a3f5f",
             "gridcolor": "#C8D4E3",
             "linecolor": "#C8D4E3",
             "minorgridcolor": "#C8D4E3",
             "startlinecolor": "#2a3f5f"
            },
            "baxis": {
             "endlinecolor": "#2a3f5f",
             "gridcolor": "#C8D4E3",
             "linecolor": "#C8D4E3",
             "minorgridcolor": "#C8D4E3",
             "startlinecolor": "#2a3f5f"
            },
            "type": "carpet"
           }
          ],
          "choropleth": [
           {
            "colorbar": {
             "outlinewidth": 0,
             "ticks": ""
            },
            "type": "choropleth"
           }
          ],
          "contour": [
           {
            "colorbar": {
             "outlinewidth": 0,
             "ticks": ""
            },
            "colorscale": [
             [
              0,
              "#0d0887"
             ],
             [
              0.1111111111111111,
              "#46039f"
             ],
             [
              0.2222222222222222,
              "#7201a8"
             ],
             [
              0.3333333333333333,
              "#9c179e"
             ],
             [
              0.4444444444444444,
              "#bd3786"
             ],
             [
              0.5555555555555556,
              "#d8576b"
             ],
             [
              0.6666666666666666,
              "#ed7953"
             ],
             [
              0.7777777777777778,
              "#fb9f3a"
             ],
             [
              0.8888888888888888,
              "#fdca26"
             ],
             [
              1,
              "#f0f921"
             ]
            ],
            "type": "contour"
           }
          ],
          "contourcarpet": [
           {
            "colorbar": {
             "outlinewidth": 0,
             "ticks": ""
            },
            "type": "contourcarpet"
           }
          ],
          "heatmap": [
           {
            "colorbar": {
             "outlinewidth": 0,
             "ticks": ""
            },
            "colorscale": [
             [
              0,
              "#0d0887"
             ],
             [
              0.1111111111111111,
              "#46039f"
             ],
             [
              0.2222222222222222,
              "#7201a8"
             ],
             [
              0.3333333333333333,
              "#9c179e"
             ],
             [
              0.4444444444444444,
              "#bd3786"
             ],
             [
              0.5555555555555556,
              "#d8576b"
             ],
             [
              0.6666666666666666,
              "#ed7953"
             ],
             [
              0.7777777777777778,
              "#fb9f3a"
             ],
             [
              0.8888888888888888,
              "#fdca26"
             ],
             [
              1,
              "#f0f921"
             ]
            ],
            "type": "heatmap"
           }
          ],
          "heatmapgl": [
           {
            "colorbar": {
             "outlinewidth": 0,
             "ticks": ""
            },
            "colorscale": [
             [
              0,
              "#0d0887"
             ],
             [
              0.1111111111111111,
              "#46039f"
             ],
             [
              0.2222222222222222,
              "#7201a8"
             ],
             [
              0.3333333333333333,
              "#9c179e"
             ],
             [
              0.4444444444444444,
              "#bd3786"
             ],
             [
              0.5555555555555556,
              "#d8576b"
             ],
             [
              0.6666666666666666,
              "#ed7953"
             ],
             [
              0.7777777777777778,
              "#fb9f3a"
             ],
             [
              0.8888888888888888,
              "#fdca26"
             ],
             [
              1,
              "#f0f921"
             ]
            ],
            "type": "heatmapgl"
           }
          ],
          "histogram": [
           {
            "marker": {
             "pattern": {
              "fillmode": "overlay",
              "size": 10,
              "solidity": 0.2
             }
            },
            "type": "histogram"
           }
          ],
          "histogram2d": [
           {
            "colorbar": {
             "outlinewidth": 0,
             "ticks": ""
            },
            "colorscale": [
             [
              0,
              "#0d0887"
             ],
             [
              0.1111111111111111,
              "#46039f"
             ],
             [
              0.2222222222222222,
              "#7201a8"
             ],
             [
              0.3333333333333333,
              "#9c179e"
             ],
             [
              0.4444444444444444,
              "#bd3786"
             ],
             [
              0.5555555555555556,
              "#d8576b"
             ],
             [
              0.6666666666666666,
              "#ed7953"
             ],
             [
              0.7777777777777778,
              "#fb9f3a"
             ],
             [
              0.8888888888888888,
              "#fdca26"
             ],
             [
              1,
              "#f0f921"
             ]
            ],
            "type": "histogram2d"
           }
          ],
          "histogram2dcontour": [
           {
            "colorbar": {
             "outlinewidth": 0,
             "ticks": ""
            },
            "colorscale": [
             [
              0,
              "#0d0887"
             ],
             [
              0.1111111111111111,
              "#46039f"
             ],
             [
              0.2222222222222222,
              "#7201a8"
             ],
             [
              0.3333333333333333,
              "#9c179e"
             ],
             [
              0.4444444444444444,
              "#bd3786"
             ],
             [
              0.5555555555555556,
              "#d8576b"
             ],
             [
              0.6666666666666666,
              "#ed7953"
             ],
             [
              0.7777777777777778,
              "#fb9f3a"
             ],
             [
              0.8888888888888888,
              "#fdca26"
             ],
             [
              1,
              "#f0f921"
             ]
            ],
            "type": "histogram2dcontour"
           }
          ],
          "mesh3d": [
           {
            "colorbar": {
             "outlinewidth": 0,
             "ticks": ""
            },
            "type": "mesh3d"
           }
          ],
          "parcoords": [
           {
            "line": {
             "colorbar": {
              "outlinewidth": 0,
              "ticks": ""
             }
            },
            "type": "parcoords"
           }
          ],
          "pie": [
           {
            "automargin": true,
            "type": "pie"
           }
          ],
          "scatter": [
           {
            "fillpattern": {
             "fillmode": "overlay",
             "size": 10,
             "solidity": 0.2
            },
            "type": "scatter"
           }
          ],
          "scatter3d": [
           {
            "line": {
             "colorbar": {
              "outlinewidth": 0,
              "ticks": ""
             }
            },
            "marker": {
             "colorbar": {
              "outlinewidth": 0,
              "ticks": ""
             }
            },
            "type": "scatter3d"
           }
          ],
          "scattercarpet": [
           {
            "marker": {
             "colorbar": {
              "outlinewidth": 0,
              "ticks": ""
             }
            },
            "type": "scattercarpet"
           }
          ],
          "scattergeo": [
           {
            "marker": {
             "colorbar": {
              "outlinewidth": 0,
              "ticks": ""
             }
            },
            "type": "scattergeo"
           }
          ],
          "scattergl": [
           {
            "marker": {
             "colorbar": {
              "outlinewidth": 0,
              "ticks": ""
             }
            },
            "type": "scattergl"
           }
          ],
          "scattermapbox": [
           {
            "marker": {
             "colorbar": {
              "outlinewidth": 0,
              "ticks": ""
             }
            },
            "type": "scattermapbox"
           }
          ],
          "scatterpolar": [
           {
            "marker": {
             "colorbar": {
              "outlinewidth": 0,
              "ticks": ""
             }
            },
            "type": "scatterpolar"
           }
          ],
          "scatterpolargl": [
           {
            "marker": {
             "colorbar": {
              "outlinewidth": 0,
              "ticks": ""
             }
            },
            "type": "scatterpolargl"
           }
          ],
          "scatterternary": [
           {
            "marker": {
             "colorbar": {
              "outlinewidth": 0,
              "ticks": ""
             }
            },
            "type": "scatterternary"
           }
          ],
          "surface": [
           {
            "colorbar": {
             "outlinewidth": 0,
             "ticks": ""
            },
            "colorscale": [
             [
              0,
              "#0d0887"
             ],
             [
              0.1111111111111111,
              "#46039f"
             ],
             [
              0.2222222222222222,
              "#7201a8"
             ],
             [
              0.3333333333333333,
              "#9c179e"
             ],
             [
              0.4444444444444444,
              "#bd3786"
             ],
             [
              0.5555555555555556,
              "#d8576b"
             ],
             [
              0.6666666666666666,
              "#ed7953"
             ],
             [
              0.7777777777777778,
              "#fb9f3a"
             ],
             [
              0.8888888888888888,
              "#fdca26"
             ],
             [
              1,
              "#f0f921"
             ]
            ],
            "type": "surface"
           }
          ],
          "table": [
           {
            "cells": {
             "fill": {
              "color": "#EBF0F8"
             },
             "line": {
              "color": "white"
             }
            },
            "header": {
             "fill": {
              "color": "#C8D4E3"
             },
             "line": {
              "color": "white"
             }
            },
            "type": "table"
           }
          ]
         },
         "layout": {
          "annotationdefaults": {
           "arrowcolor": "#2a3f5f",
           "arrowhead": 0,
           "arrowwidth": 1
          },
          "autotypenumbers": "strict",
          "coloraxis": {
           "colorbar": {
            "outlinewidth": 0,
            "ticks": ""
           }
          },
          "colorscale": {
           "diverging": [
            [
             0,
             "#8e0152"
            ],
            [
             0.1,
             "#c51b7d"
            ],
            [
             0.2,
             "#de77ae"
            ],
            [
             0.3,
             "#f1b6da"
            ],
            [
             0.4,
             "#fde0ef"
            ],
            [
             0.5,
             "#f7f7f7"
            ],
            [
             0.6,
             "#e6f5d0"
            ],
            [
             0.7,
             "#b8e186"
            ],
            [
             0.8,
             "#7fbc41"
            ],
            [
             0.9,
             "#4d9221"
            ],
            [
             1,
             "#276419"
            ]
           ],
           "sequential": [
            [
             0,
             "#0d0887"
            ],
            [
             0.1111111111111111,
             "#46039f"
            ],
            [
             0.2222222222222222,
             "#7201a8"
            ],
            [
             0.3333333333333333,
             "#9c179e"
            ],
            [
             0.4444444444444444,
             "#bd3786"
            ],
            [
             0.5555555555555556,
             "#d8576b"
            ],
            [
             0.6666666666666666,
             "#ed7953"
            ],
            [
             0.7777777777777778,
             "#fb9f3a"
            ],
            [
             0.8888888888888888,
             "#fdca26"
            ],
            [
             1,
             "#f0f921"
            ]
           ],
           "sequentialminus": [
            [
             0,
             "#0d0887"
            ],
            [
             0.1111111111111111,
             "#46039f"
            ],
            [
             0.2222222222222222,
             "#7201a8"
            ],
            [
             0.3333333333333333,
             "#9c179e"
            ],
            [
             0.4444444444444444,
             "#bd3786"
            ],
            [
             0.5555555555555556,
             "#d8576b"
            ],
            [
             0.6666666666666666,
             "#ed7953"
            ],
            [
             0.7777777777777778,
             "#fb9f3a"
            ],
            [
             0.8888888888888888,
             "#fdca26"
            ],
            [
             1,
             "#f0f921"
            ]
           ]
          },
          "colorway": [
           "#636efa",
           "#EF553B",
           "#00cc96",
           "#ab63fa",
           "#FFA15A",
           "#19d3f3",
           "#FF6692",
           "#B6E880",
           "#FF97FF",
           "#FECB52"
          ],
          "font": {
           "color": "#2a3f5f"
          },
          "geo": {
           "bgcolor": "white",
           "lakecolor": "white",
           "landcolor": "white",
           "showlakes": true,
           "showland": true,
           "subunitcolor": "#C8D4E3"
          },
          "hoverlabel": {
           "align": "left"
          },
          "hovermode": "closest",
          "mapbox": {
           "style": "light"
          },
          "paper_bgcolor": "white",
          "plot_bgcolor": "white",
          "polar": {
           "angularaxis": {
            "gridcolor": "#EBF0F8",
            "linecolor": "#EBF0F8",
            "ticks": ""
           },
           "bgcolor": "white",
           "radialaxis": {
            "gridcolor": "#EBF0F8",
            "linecolor": "#EBF0F8",
            "ticks": ""
           }
          },
          "scene": {
           "xaxis": {
            "backgroundcolor": "white",
            "gridcolor": "#DFE8F3",
            "gridwidth": 2,
            "linecolor": "#EBF0F8",
            "showbackground": true,
            "ticks": "",
            "zerolinecolor": "#EBF0F8"
           },
           "yaxis": {
            "backgroundcolor": "white",
            "gridcolor": "#DFE8F3",
            "gridwidth": 2,
            "linecolor": "#EBF0F8",
            "showbackground": true,
            "ticks": "",
            "zerolinecolor": "#EBF0F8"
           },
           "zaxis": {
            "backgroundcolor": "white",
            "gridcolor": "#DFE8F3",
            "gridwidth": 2,
            "linecolor": "#EBF0F8",
            "showbackground": true,
            "ticks": "",
            "zerolinecolor": "#EBF0F8"
           }
          },
          "shapedefaults": {
           "line": {
            "color": "#2a3f5f"
           }
          },
          "ternary": {
           "aaxis": {
            "gridcolor": "#DFE8F3",
            "linecolor": "#A2B1C6",
            "ticks": ""
           },
           "baxis": {
            "gridcolor": "#DFE8F3",
            "linecolor": "#A2B1C6",
            "ticks": ""
           },
           "bgcolor": "white",
           "caxis": {
            "gridcolor": "#DFE8F3",
            "linecolor": "#A2B1C6",
            "ticks": ""
           }
          },
          "title": {
           "x": 0.05
          },
          "xaxis": {
           "automargin": true,
           "gridcolor": "#EBF0F8",
           "linecolor": "#EBF0F8",
           "ticks": "",
           "title": {
            "standoff": 15
           },
           "zerolinecolor": "#EBF0F8",
           "zerolinewidth": 2
          },
          "yaxis": {
           "automargin": true,
           "gridcolor": "#EBF0F8",
           "linecolor": "#EBF0F8",
           "ticks": "",
           "title": {
            "standoff": 15
           },
           "zerolinecolor": "#EBF0F8",
           "zerolinewidth": 2
          }
         }
        },
        "title": {
         "text": "📈  potato Spot Prices (2020–2025) with Highlighted 2025 Prediction"
        },
        "xaxis": {
         "anchor": "y",
         "domain": [
          0,
          1
         ],
         "dtick": 4,
         "range": [
          1,
          52
         ],
         "tick0": 1,
         "tickmode": "linear",
         "title": {
          "text": "Week of Year"
         }
        },
        "yaxis": {
         "anchor": "x",
         "domain": [
          0,
          1
         ],
         "range": [
          0,
          130.757
         ],
         "title": {
          "text": "Price"
         }
        }
       }
      }
     },
     "metadata": {},
     "output_type": "display_data"
    }
   ],
   "source": [
    "import plotly.express as px\n",
    "import plotly.graph_objects as go\n",
    "import pandas as pd\n",
    "import numpy as np\n",
    "from sklearn.linear_model import LinearRegression\n",
    "# 1. Filter actual 2025 spot prices (non-zero)\n",
    "df_2025_actual = df[df[\"spot_price_2025\"] > 0].copy()\n",
    "df_2025_actual = df_2025_actual.reset_index(drop=True)\n",
    "\n",
    "# Prepare Linear Regression model (if not done already)\n",
    "x_train = df_2025_actual.index.values.reshape(-1, 1)\n",
    "y_train = df_2025_actual[\"spot_price_2025\"]\n",
    "model = LinearRegression()\n",
    "model.fit(x_train, y_train)\n",
    "\n",
    "# 1. Compute average seasonality from 2020–2024\n",
    "seasonal_prices = []\n",
    "for year in [\"2020\", \"2021\", \"2022\", \"2023\", \"2024\"]:\n",
    "    weekly_prices = df[f\"spot_price_{year}\"].values[:52]\n",
    "    for week, price in enumerate(weekly_prices, 1):\n",
    "        seasonal_prices.append([week, price])\n",
    "\n",
    "season_df = pd.DataFrame(seasonal_prices, columns=[\"Week\", \"Price\"])\n",
    "avg_season = season_df.groupby(\"Week\")[\"Price\"].mean()\n",
    "\n",
    "# 2. Combine all data\n",
    "all_data = []\n",
    "\n",
    "# Historical years (2020–2024)\n",
    "for year in [\"2020\", \"2021\", \"2022\", \"2023\", \"2024\"]:\n",
    "    prices = df[f\"spot_price_{year}\"].values[:52]\n",
    "    for week, price in enumerate(prices, 1):\n",
    "        all_data.append([week, price, year, \"Actual\"])\n",
    "\n",
    "# 2025 actual (weeks 1–29)\n",
    "actual_2025 = df[\"spot_price_2025\"][df[\"spot_price_2025\"] > 0].values\n",
    "for week, price in enumerate(actual_2025, 1):\n",
    "    all_data.append([week, price, \"2025\", \"Actual\"])\n",
    "\n",
    "# 2025 predicted (weeks 30–52)\n",
    "for week in range(30, 53):\n",
    "    predicted_price = avg_season[week]\n",
    "    all_data.append([week, predicted_price, \"2025\", \"Predicted\"])\n",
    "\n",
    "# Make DataFrame\n",
    "plot_data = pd.DataFrame(all_data, columns=[\"Week\", \"Price\", \"Year\", \"Type\"])\n",
    "\n",
    "# Split actual and predicted\n",
    "actual_data = plot_data[plot_data[\"Type\"] == \"Actual\"]\n",
    "predicted_data = plot_data[plot_data[\"Type\"] == \"Predicted\"]\n",
    "\n",
    "# 3. Plot actual data (2020–2024)\n",
    "fig = px.line(\n",
    "    actual_data[actual_data[\"Year\"] != \"2025\"],\n",
    "    x=\"Week\",\n",
    "    y=\"Price\",\n",
    "    color=\"Year\",\n",
    "    title=\"📈  potato Spot Prices (2020–2025) with Highlighted 2025 Prediction\",\n",
    "    labels={\"Price\": \"Spot Price\", \"Week\": \"Week of Year\"},\n",
    "    template=\"plotly_white\",\n",
    "    markers=False\n",
    ")\n",
    "\n",
    "# 4. Add full 2025 line (actual + predicted)\n",
    "combined_2025 = plot_data[plot_data[\"Year\"] == \"2025\"]\n",
    "fig.add_scatter(\n",
    "    x=combined_2025[\"Week\"],\n",
    "    y=combined_2025[\"Price\"],\n",
    "    mode=\"lines+markers\",\n",
    "    name=\"2025 (Actual + Predicted)\",\n",
    "    line=dict(color=\"red\", width=3),\n",
    "    marker=dict(size=5, symbol=\"circle\"),\n",
    "    showlegend=True\n",
    ")\n",
    "\n",
    "# 5. Highlight predicted region (week 30–52)\n",
    "fig.add_vrect(\n",
    "    x0=29.5, x1=52,\n",
    "    fillcolor=\"lightgray\",\n",
    "    opacity=0.25,\n",
    "    annotation_text=\"Predicted Region (2025)\",\n",
    "    annotation_position=\"top left\",\n",
    "    line_width=0\n",
    ")\n",
    "\n",
    "# 6. Layout tweaks\n",
    "fig.update_layout(\n",
    "    hovermode=\"x unified\",\n",
    "    legend_title_text=\"Year\",\n",
    "    xaxis=dict(tickmode='linear', tick0=1, dtick=4, range=[1, 52]),\n",
    "    yaxis=dict(title=\"Price\", range=[0, plot_data[\"Price\"].max() * 1.1]),\n",
    "    height=600\n",
    ")\n",
    "\n",
    "fig.show()\n",
    " "
   ]
  },
  {
   "cell_type": "code",
   "execution_count": 5,
   "id": "d9e45cc5",
   "metadata": {},
   "outputs": [
    {
     "name": "stdout",
     "output_type": "stream",
     "text": [
      "       Week        Date  spot_price_2025\n",
      "0   2025-29  2025-07-14            407.3\n",
      "1   2025-30  2025-07-21            399.2\n",
      "2   2025-31  2025-07-28            386.0\n",
      "3   2025-32  2025-08-04            374.4\n",
      "4   2025-33  2025-08-11            375.0\n",
      "5   2025-34  2025-08-18            380.4\n",
      "6   2025-35  2025-08-25            373.9\n",
      "7   2025-36  2025-09-01            381.7\n",
      "8   2025-37  2025-09-08            389.4\n",
      "9   2025-38  2025-09-15            396.4\n",
      "10  2025-39  2025-09-22            401.1\n",
      "11  2025-40  2025-09-29            401.4\n",
      "12  2025-41  2025-10-06            413.6\n",
      "13  2025-42  2025-10-13            415.2\n",
      "14  2025-43  2025-10-20            401.2\n",
      "15  2025-44  2025-10-27            386.1\n",
      "16  2025-45  2025-11-03            391.1\n",
      "17  2025-46  2025-11-10            395.7\n",
      "18  2025-47  2025-11-17            410.2\n",
      "19  2025-48  2025-11-24            401.1\n",
      "20  2025-49  2025-12-01            383.8\n",
      "21  2025-50  2025-12-08            370.3\n",
      "22  2025-51  2025-12-15            371.4\n",
      "23  2025-52  2025-12-22            382.4\n"
     ]
    }
   ],
   "source": [
    "import pandas as pd\n",
    "import numpy as np\n",
    "from sklearn.linear_model import LinearRegression\n",
    "\n",
    "# Load the uploaded dataset\n",
    "df = pd.read_csv(r\"c:\\Users\\abdul\\Downloads\\amCharts (1).csv\")\n",
    "\n",
    "# Drop any 2026/2027 prediction columns if they exist\n",
    "df = df.drop(columns=[col for col in df.columns if \"2026\" in col or \"2027\" in col], errors=\"ignore\")\n",
    "\n",
    "# Convert Date column to datetime\n",
    "df[\"Date\"] = pd.to_datetime(df[\"Date\"], errors=\"coerce\")\n",
    "\n",
    "# Filter out valid 2025 data\n",
    "df_2025 = df[df[\"spot_price_2025\"] > 0]\n",
    "x_train = df_2025.index.values.reshape(-1, 1)\n",
    "y_train = df_2025[\"spot_price_2025\"]\n",
    "\n",
    "# Train linear regression (not used for final forecast, but here if needed)\n",
    "model = LinearRegression()\n",
    "model.fit(x_train, y_train)\n",
    "\n",
    "# Week and future date labels\n",
    "week = range(29, 53)\n",
    "week_labels = [f\"2025-{w}\" for w in week]\n",
    "future_dates = [\n",
    "    \"2025-07-14\", \"2025-07-21\", \"2025-07-28\", \"2025-08-04\",\n",
    "    \"2025-08-11\", \"2025-08-18\", \"2025-08-25\", \"2025-09-01\",\n",
    "    \"2025-09-08\", \"2025-09-15\", \"2025-09-22\", \"2025-09-29\",\n",
    "    \"2025-10-06\", \"2025-10-13\", \"2025-10-20\", \"2025-10-27\",\n",
    "    \"2025-11-03\", \"2025-11-10\", \"2025-11-17\", \"2025-11-24\",    \n",
    "    \"2025-12-01\", \"2025-12-08\", \"2025-12-15\", \"2025-12-22\"\n",
    "]\n",
    "\n",
    "# --- Calculate seasonal average from 2020–2024 for each week 1–52 ---\n",
    "seasonal_prices = []\n",
    "for year in [\"2020\", \"2021\", \"2022\", \"2023\", \"2024\"]:\n",
    "    if f\"spot_price_{year}\" in df.columns:\n",
    "        prices = df[f\"spot_price_{year}\"].values[:52]\n",
    "        for wk, val in enumerate(prices, 1):\n",
    "            seasonal_prices.append([wk, val])\n",
    "\n",
    "# Build DataFrame and calculate average per week\n",
    "season_df = pd.DataFrame(seasonal_prices, columns=[\"Week\", \"Price\"])\n",
    "avg_season = season_df.groupby(\"Week\")[\"Price\"].mean()\n",
    "\n",
    "# Predict spot prices for week 29–52 using seasonal average\n",
    "predicted_prices = [round(avg_season.get(wk, np.nan), 1) for wk in week]\n",
    "\n",
    "# Create future DataFrame\n",
    "future_df = pd.DataFrame({\n",
    "    \"Week\": week_labels,\n",
    "    \"Date\": future_dates,\n",
    "    \"spot_price_2025\": predicted_prices\n",
    "})\n",
    "\n",
    "# Display result\n",
    "print(future_df)\n"
   ]
  },
  {
   "cell_type": "code",
   "execution_count": null,
   "id": "eb40a0d2",
   "metadata": {},
   "outputs": [],
   "source": [
    "\n",
    "\n",
    "# ----------------------------------------\n",
    "# 📍 Punjab District-wise Price Dashboard\n",
    "# ----------------------------------------\n",
    "st.title(\"📍 Punjab District-wise Commodity Price Dashboard\")\n",
    "\n",
    "# --- Load Excel and GeoJSON ---\n",
    "df = pd.read_excel(r\"c:\\\\Users\\\\abdul\\\\OneDrive\\\\Desktop\\\\price data.xlsx\")\n",
    "gdf = gpd.read_file(r\"c:\\\\Users\\\\abdul\\\\OneDrive\\\\Desktop\\\\Punjab_district_boundary.geojson\")\n",
    "\n",
    "# --- Clean Data ---\n",
    "df = df.loc[:, ~df.columns.str.contains(\"^Unnamed\")]\n",
    "df.rename(columns={df.columns[0]: \"District\"}, inplace=True)\n",
    "for col in df.columns[1:]:\n",
    "    df[col] = pd.to_numeric(df[col], errors='coerce').fillna(np.random.randint(30, 90))\n",
    "df[\"District\"] = df[\"District\"].str.lower().str.strip()\n",
    "gdf.rename(columns={col: \"District\" for col in gdf.columns if col.lower() in [\"district\", \"district_name\"]}, inplace=True)\n",
    "gdf[\"District\"] = gdf[\"District\"].str.lower().str.strip()\n",
    "\n",
    "# --- Sidebar ---\n",
    "st.sidebar.header(\"🔘 Filter Options\")\n",
    "commodity_list = df.columns.drop(\"District\").tolist()\n",
    "selected_option = st.sidebar.selectbox(\"🛒 Select a Commodity\", [\"Reset\"] + commodity_list)\n",
    "\n",
    "# --- Commodity Selection Logic ---\n",
    "if selected_option == \"Reset\":\n",
    "    df_selected = df.copy()\n",
    "    df_selected[\"Price\"] = df_selected[commodity_list].mean(axis=1)\n",
    "    df_selected[\"hover_text\"] = df_selected.apply(\n",
    "        lambda row: f\"<b>{row['District'].title()}</b><br>\" + \"<br>\".join(\n",
    "            [f\"{col}: {row[col]:.1f}\" for col in commodity_list]\n",
    "        ), axis=1\n",
    "    )\n",
    "else:\n",
    "    df_selected = df[[\"District\", selected_option]].copy()\n",
    "    df_selected.rename(columns={selected_option: \"Price\"}, inplace=True)\n",
    "    df_selected[\"hover_text\"] = df_selected.apply(\n",
    "        lambda row: f\"<b>{row['District'].title()}</b><br>{selected_option}: {row['Price']:.1f}\", axis=1\n",
    "    )\n",
    "\n",
    "# --- Ensure all districts included ---\n",
    "df_selected = pd.merge(gdf[[\"District\"]], df_selected, on=\"District\", how=\"left\")\n",
    "df_selected[\"Price\"].fillna(np.nanmean(df_selected[\"Price\"]), inplace=True)\n",
    "df_selected[\"hover_text\"].fillna(df_selected[\"District\"].apply(lambda d: f\"<b>{d.title()}</b><br>No Data\"), inplace=True)\n",
    "\n",
    "# --- Merge with GeoData ---\n",
    "merged = gdf.merge(df_selected, on=\"District\", how=\"left\")\n",
    "geojson_data = merged._geo_interface_\n",
    "\n",
    "# --- Choropleth Map ---\n",
    "fig_map = go.Figure(go.Choropleth(\n",
    "    geojson=geojson_data,\n",
    "    locations=merged[\"District\"],\n",
    "    z=merged[\"Price\"],\n",
    "    featureidkey=\"properties.District\",\n",
    "    colorscale=\"YlGnBu\",\n",
    "    marker_line_width=0.5,\n",
    "    hovertext=merged[\"hover_text\"],\n",
    "    hoverinfo=\"text\",\n",
    "    colorbar_title=\"Price\"\n",
    "))\n",
    "\n",
    "# Add text labels\n",
    "for _, row in merged.iterrows():\n",
    "    if row.geometry and pd.notnull(row[\"Price\"]):\n",
    "        centroid = row.geometry.centroid\n",
    "        fig_map.add_trace(go.Scattergeo(\n",
    "            lon=[centroid.x], lat=[centroid.y], text=[f\"{row['Price']:.1f}\"],\n",
    "            mode=\"text\", showlegend=False, textfont=dict(size=9, color=\"black\"), hoverinfo=\"skip\"\n",
    "        ))\n",
    "\n",
    "fig_map.update_geos(fitbounds=\"locations\", visible=False)\n",
    "fig_map.update_layout(\n",
    "    title=f\"🗺 {'Average Price (All Commodities)' if selected_option == 'Reset' else selected_option + ' Price'} by District\",\n",
    "    margin=dict(r=0, t=40, l=0, b=0),\n",
    "    height=650\n",
    ")\n",
    "\n",
    "st.plotly_chart(fig_map, use_container_width=True)\n",
    "\n",
    "# --- Bar Chart ---\n",
    "bar_df = df_selected.sort_values(\"Price\", ascending=False).copy()\n",
    "bar_df[\"custom_hover\"] = bar_df[\"hover_text\"]\n",
    "\n",
    "fig_bar = go.Figure(data=[\n",
    "    go.Bar(\n",
    "        x=bar_df[\"District\"].str.title(),\n",
    "        y=bar_df[\"Price\"],\n",
    "        marker=dict(color=bar_df[\"Price\"], colorscale=\"YlGnBu\"),\n",
    "        customdata=bar_df[\"custom_hover\"],\n",
    "        hovertemplate=\"%{customdata}<extra></extra>\"\n",
    "    )\n",
    "])\n",
    "\n",
    "fig_bar.update_layout(\n",
    "    title=\"📊 \" + (\"Average Price (All Commodities)\" if selected_option == \"Reset\" else f\"{selected_option} Price\") + \" Across All Districts\",\n",
    "    xaxis_title=\"District\",\n",
    "    yaxis_title=\"Price\",\n",
    "    height=500,\n",
    "    margin=dict(l=40, r=20, t=50, b=150),\n",
    "    xaxis_tickangle=45\n",
    ")\n",
    "\n",
    "st.plotly_chart(fig_bar, use_container_width=True)"
   ]
  }
 ],
 "metadata": {
  "kernelspec": {
   "display_name": "base",
   "language": "python",
   "name": "python3"
  },
  "language_info": {
   "codemirror_mode": {
    "name": "ipython",
    "version": 3
   },
   "file_extension": ".py",
   "mimetype": "text/x-python",
   "name": "python",
   "nbconvert_exporter": "python",
   "pygments_lexer": "ipython3",
   "version": "3.12.4"
  }
 },
 "nbformat": 4,
 "nbformat_minor": 5
}
